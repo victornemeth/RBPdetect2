{
 "cells": [
  {
   "cell_type": "code",
   "execution_count": 7,
   "id": "3d78c58a",
   "metadata": {},
   "outputs": [],
   "source": [
    "#!pip install biopython pandas torch scikit-learn transformers datasets accelerate"
   ]
  },
  {
   "cell_type": "code",
   "execution_count": 1,
   "id": "8fc01c53",
   "metadata": {},
   "outputs": [],
   "source": [
    "import os\n",
    "from Bio import SeqIO\n",
    "import pandas as pd\n",
    "from sklearn.model_selection import train_test_split\n",
    "\n",
    "def load_fasta(file_path):\n",
    "    \"\"\"Loads sequences from a FASTA file.\"\"\"\n",
    "    sequences = []\n",
    "    for record in SeqIO.parse(file_path, \"fasta\"):\n",
    "        sequences.append({\"id\": record.id, \"sequence\": str(record.seq)})\n",
    "    return pd.DataFrame(sequences)\n",
    "\n",
    "# Load the datasets\n",
    "tf_df = load_fasta(\"input/TF.fasta\")\n",
    "tsp_df = load_fasta(\"input/TSP.fasta\")\n",
    "nonrbp_df = load_fasta(\"input/nonRBPs.fasta\")\n",
    "\n",
    "# Add labels\n",
    "tf_df[\"label\"] = 1\n",
    "tsp_df[\"label\"] = 2\n",
    "nonrbp_df[\"label\"] = 0\n",
    "\n",
    "# Extract cluster IDs for TF dataframe\n",
    "tf_df['cluster_id'] = tf_df['id'].apply(lambda x: x.split('_')[-1])"
   ]
  },
  {
   "cell_type": "code",
   "execution_count": 2,
   "id": "84a537c0",
   "metadata": {},
   "outputs": [],
   "source": [
    "nonrbp_df = nonrbp_df.sample(frac=0.03, random_state=42)"
   ]
  },
  {
   "cell_type": "code",
   "execution_count": 3,
   "id": "9c7befff",
   "metadata": {},
   "outputs": [
    {
     "name": "stdout",
     "output_type": "stream",
     "text": [
      "Training set size: 10979\n",
      "Testing set size: 2745\n",
      "\n",
      "Training set label distribution:\n",
      " label\n",
      "0    9741\n",
      "2     675\n",
      "1     563\n",
      "Name: count, dtype: int64\n",
      "\n",
      "Testing set label distribution:\n",
      " label\n",
      "0    2436\n",
      "2     169\n",
      "1     140\n",
      "Name: count, dtype: int64\n"
     ]
    }
   ],
   "source": [
    "# Identify single-member clusters in the TF dataset\n",
    "cluster_counts = tf_df['cluster_id'].value_counts()\n",
    "single_member_clusters = cluster_counts[cluster_counts == 1].index\n",
    "multi_member_clusters = cluster_counts[cluster_counts > 1].index\n",
    "\n",
    "tf_single_member_df = tf_df[tf_df['cluster_id'].isin(single_member_clusters)]\n",
    "tf_multi_member_df = tf_df[tf_df['cluster_id'].isin(multi_member_clusters)]\n",
    "\n",
    "# Split the multi-member cluster data, stratifying by cluster_id\n",
    "tf_train_multi, tf_test = train_test_split(\n",
    "    tf_multi_member_df,\n",
    "    test_size=0.2,\n",
    "    stratify=tf_multi_member_df['cluster_id'],\n",
    "    random_state=42\n",
    ")\n",
    "\n",
    "# The training set for TFs is the combination of the multi-member training split and all single-member clusters\n",
    "tf_train = pd.concat([tf_train_multi, tf_single_member_df])\n",
    "\n",
    "# Perform standard train-test splits for TSP and nonRBP\n",
    "tsp_train, tsp_test = train_test_split(tsp_df, test_size=0.2, random_state=42)\n",
    "nonrbp_train, nonrbp_test = train_test_split(nonrbp_df, test_size=0.2, random_state=42)\n",
    "\n",
    "# Combine the training and testing sets\n",
    "train_df = pd.concat([tf_train, tsp_train, nonrbp_train]).sample(frac=1, random_state=42).reset_index(drop=True)\n",
    "test_df = pd.concat([tf_test, tsp_test, nonrbp_test]).sample(frac=1, random_state=42).reset_index(drop=True)\n",
    "\n",
    "print(\"Training set size:\", len(train_df))\n",
    "print(\"Testing set size:\", len(test_df))\n",
    "print(\"\\nTraining set label distribution:\\n\", train_df['label'].value_counts())\n",
    "print(\"\\nTesting set label distribution:\\n\", test_df['label'].value_counts())"
   ]
  },
  {
   "cell_type": "code",
   "execution_count": 4,
   "id": "751ba170",
   "metadata": {},
   "outputs": [
    {
     "name": "stderr",
     "output_type": "stream",
     "text": [
      "/home/victor/miniconda3/envs/esm2classifier/lib/python3.12/site-packages/tqdm/auto.py:21: TqdmWarning: IProgress not found. Please update jupyter and ipywidgets. See https://ipywidgets.readthedocs.io/en/stable/user_install.html\n",
      "  from .autonotebook import tqdm as notebook_tqdm\n",
      "Some weights of EsmForSequenceClassification were not initialized from the model checkpoint at facebook/esm2_t12_35M_UR50D and are newly initialized: ['classifier.dense.bias', 'classifier.dense.weight', 'classifier.out_proj.bias', 'classifier.out_proj.weight']\n",
      "You should probably TRAIN this model on a down-stream task to be able to use it for predictions and inference.\n"
     ]
    }
   ],
   "source": [
    "from transformers import AutoTokenizer, EsmForSequenceClassification\n",
    "\n",
    "model_name = \"facebook/esm2_t12_35M_UR50D\"\n",
    "tokenizer = AutoTokenizer.from_pretrained(model_name)\n",
    "model = EsmForSequenceClassification.from_pretrained(model_name, num_labels=3)"
   ]
  },
  {
   "cell_type": "code",
   "execution_count": 5,
   "id": "47b3196f",
   "metadata": {},
   "outputs": [],
   "source": [
    "import torch\n",
    "from torch.utils.data import Dataset\n",
    "\n",
    "class ProteinDataset(Dataset):\n",
    "    def __init__(self, sequences, labels, tokenizer):\n",
    "        self.sequences = sequences\n",
    "        self.labels = labels\n",
    "        self.tokenizer = tokenizer\n",
    "\n",
    "    def __len__(self):\n",
    "        return len(self.sequences)\n",
    "\n",
    "    def __getitem__(self, idx):\n",
    "        sequence = self.sequences[idx]\n",
    "        label = self.labels[idx]\n",
    "        encoding = self.tokenizer(sequence, return_tensors='pt', truncation=True, padding='max_length', max_length=512)\n",
    "        return {\n",
    "            'input_ids': encoding['input_ids'].squeeze(),\n",
    "            'attention_mask': encoding['attention_mask'].squeeze(),\n",
    "            'labels': torch.tensor(label, dtype=torch.long)\n",
    "        }\n",
    "\n",
    "train_dataset = ProteinDataset(train_df['sequence'].tolist(), train_df['label'].tolist(), tokenizer)\n",
    "test_dataset = ProteinDataset(test_df['sequence'].tolist(), test_df['label'].tolist(), tokenizer)"
   ]
  },
  {
   "cell_type": "code",
   "execution_count": 6,
   "id": "979af684",
   "metadata": {},
   "outputs": [
    {
     "name": "stderr",
     "output_type": "stream",
     "text": [
      "/home/victor/miniconda3/envs/esm2classifier/lib/python3.12/site-packages/torch/nn/parallel/_functions.py:71: UserWarning: Was asked to gather along dimension 0, but all input tensors were scalars; will instead unsqueeze and return a vector.\n",
      "  warnings.warn(\n"
     ]
    },
    {
     "data": {
      "text/html": [
       "\n",
       "    <div>\n",
       "      \n",
       "      <progress value='1032' max='1032' style='width:300px; height:20px; vertical-align: middle;'></progress>\n",
       "      [1032/1032 04:26, Epoch 3/3]\n",
       "    </div>\n",
       "    <table border=\"1\" class=\"dataframe\">\n",
       "  <thead>\n",
       " <tr style=\"text-align: left;\">\n",
       "      <th>Epoch</th>\n",
       "      <th>Training Loss</th>\n",
       "      <th>Validation Loss</th>\n",
       "      <th>Accuracy</th>\n",
       "      <th>F1</th>\n",
       "      <th>Precision</th>\n",
       "      <th>Recall</th>\n",
       "    </tr>\n",
       "  </thead>\n",
       "  <tbody>\n",
       "    <tr>\n",
       "      <td>1</td>\n",
       "      <td>0.092800</td>\n",
       "      <td>0.130821</td>\n",
       "      <td>0.959927</td>\n",
       "      <td>0.957861</td>\n",
       "      <td>0.961030</td>\n",
       "      <td>0.959927</td>\n",
       "    </tr>\n",
       "    <tr>\n",
       "      <td>2</td>\n",
       "      <td>0.027700</td>\n",
       "      <td>0.074984</td>\n",
       "      <td>0.982149</td>\n",
       "      <td>0.981954</td>\n",
       "      <td>0.981984</td>\n",
       "      <td>0.982149</td>\n",
       "    </tr>\n",
       "    <tr>\n",
       "      <td>3</td>\n",
       "      <td>0.041700</td>\n",
       "      <td>0.051462</td>\n",
       "      <td>0.988342</td>\n",
       "      <td>0.988417</td>\n",
       "      <td>0.988542</td>\n",
       "      <td>0.988342</td>\n",
       "    </tr>\n",
       "  </tbody>\n",
       "</table><p>"
      ],
      "text/plain": [
       "<IPython.core.display.HTML object>"
      ]
     },
     "metadata": {},
     "output_type": "display_data"
    },
    {
     "name": "stderr",
     "output_type": "stream",
     "text": [
      "/home/victor/miniconda3/envs/esm2classifier/lib/python3.12/site-packages/torch/nn/parallel/_functions.py:71: UserWarning: Was asked to gather along dimension 0, but all input tensors were scalars; will instead unsqueeze and return a vector.\n",
      "  warnings.warn(\n",
      "/home/victor/miniconda3/envs/esm2classifier/lib/python3.12/site-packages/torch/nn/parallel/_functions.py:71: UserWarning: Was asked to gather along dimension 0, but all input tensors were scalars; will instead unsqueeze and return a vector.\n",
      "  warnings.warn(\n",
      "/home/victor/miniconda3/envs/esm2classifier/lib/python3.12/site-packages/torch/nn/parallel/_functions.py:71: UserWarning: Was asked to gather along dimension 0, but all input tensors were scalars; will instead unsqueeze and return a vector.\n",
      "  warnings.warn(\n",
      "/home/victor/miniconda3/envs/esm2classifier/lib/python3.12/site-packages/torch/nn/parallel/_functions.py:71: UserWarning: Was asked to gather along dimension 0, but all input tensors were scalars; will instead unsqueeze and return a vector.\n",
      "  warnings.warn(\n",
      "/home/victor/miniconda3/envs/esm2classifier/lib/python3.12/site-packages/torch/nn/parallel/_functions.py:71: UserWarning: Was asked to gather along dimension 0, but all input tensors were scalars; will instead unsqueeze and return a vector.\n",
      "  warnings.warn(\n"
     ]
    },
    {
     "data": {
      "text/plain": [
       "TrainOutput(global_step=1032, training_loss=0.17332668968498013, metrics={'train_runtime': 268.0133, 'train_samples_per_second': 122.893, 'train_steps_per_second': 3.851, 'total_flos': 3388196394233856.0, 'train_loss': 0.17332668968498013, 'epoch': 3.0})"
      ]
     },
     "execution_count": 6,
     "metadata": {},
     "output_type": "execute_result"
    }
   ],
   "source": [
    "from transformers import TrainingArguments, Trainer\n",
    "from sklearn.metrics import accuracy_score, precision_recall_fscore_support\n",
    "\n",
    "def compute_metrics(pred):\n",
    "    labels = pred.label_ids\n",
    "    preds = pred.predictions.argmax(-1)\n",
    "    precision, recall, f1, _ = precision_recall_fscore_support(labels, preds, average='weighted')\n",
    "    acc = accuracy_score(labels, preds)\n",
    "    return {\n",
    "        'accuracy': acc,\n",
    "        'f1': f1,\n",
    "        'precision': precision,\n",
    "        'recall': recall\n",
    "    }\n",
    "\n",
    "training_args = TrainingArguments(\n",
    "    output_dir='./results',\n",
    "    num_train_epochs=3,\n",
    "    per_device_train_batch_size=8,\n",
    "    per_device_eval_batch_size=8,\n",
    "    warmup_steps=500,\n",
    "    weight_decay=0.01,\n",
    "    logging_dir='./logs',\n",
    "    logging_steps=10,\n",
    "    eval_strategy=\"epoch\"\n",
    ")\n",
    "\n",
    "trainer = Trainer(\n",
    "    model=model,\n",
    "    args=training_args,\n",
    "    train_dataset=train_dataset,\n",
    "    eval_dataset=test_dataset,\n",
    "    compute_metrics=compute_metrics\n",
    ")\n",
    "\n",
    "trainer.train()"
   ]
  },
  {
   "cell_type": "code",
   "execution_count": 8,
   "id": "c4a36e0d",
   "metadata": {},
   "outputs": [
    {
     "name": "stderr",
     "output_type": "stream",
     "text": [
      "/home/victor/miniconda3/envs/esm2classifier/lib/python3.12/site-packages/torch/nn/parallel/_functions.py:71: UserWarning: Was asked to gather along dimension 0, but all input tensors were scalars; will instead unsqueeze and return a vector.\n",
      "  warnings.warn(\n"
     ]
    },
    {
     "data": {
      "text/html": [],
      "text/plain": [
       "<IPython.core.display.HTML object>"
      ]
     },
     "metadata": {},
     "output_type": "display_data"
    },
    {
     "name": "stdout",
     "output_type": "stream",
     "text": [
      "\n",
      "Final Evaluation Results:\n",
      "eval_loss: 0.05146161839365959\n",
      "eval_accuracy: 0.9883424408014572\n",
      "eval_f1: 0.9884166382039802\n",
      "eval_precision: 0.9885417774941354\n",
      "eval_recall: 0.9883424408014572\n",
      "eval_runtime: 11.0071\n",
      "eval_samples_per_second: 249.384\n",
      "eval_steps_per_second: 7.813\n",
      "epoch: 3.0\n"
     ]
    }
   ],
   "source": [
    "results = trainer.evaluate()\n",
    "print(\"\\nFinal Evaluation Results:\")\n",
    "for key, value in results.items():\n",
    "    print(f\"{key}: {value}\")"
   ]
  },
  {
   "cell_type": "code",
   "execution_count": 9,
   "id": "8bec293a",
   "metadata": {},
   "outputs": [
    {
     "name": "stderr",
     "output_type": "stream",
     "text": [
      "/home/victor/miniconda3/envs/esm2classifier/lib/python3.12/site-packages/torch/nn/parallel/_functions.py:71: UserWarning: Was asked to gather along dimension 0, but all input tensors were scalars; will instead unsqueeze and return a vector.\n",
      "  warnings.warn(\n"
     ]
    },
    {
     "data": {
      "image/png": "[encoded data removed]",
      "text/plain": [
       "<Figure size 800x600 with 2 Axes>"
      ]
     },
     "metadata": {},
     "output_type": "display_data"
    }
   ],
   "source": [
    "import numpy as np\n",
    "import seaborn as sns\n",
    "import matplotlib.pyplot as plt\n",
    "from sklearn.metrics import confusion_matrix\n",
    "\n",
    "# Get predictions on the test set\n",
    "predictions = trainer.predict(test_dataset)\n",
    "predicted_labels = np.argmax(predictions.predictions, axis=1)\n",
    "true_labels = predictions.label_ids\n",
    "\n",
    "# Compute the confusion matrix\n",
    "cm = confusion_matrix(true_labels, predicted_labels)\n",
    "\n",
    "# Define class names based on the model's id2label mapping\n",
    "class_names = list(model.config.id2label.values())\n",
    "\n",
    "# Plot the confusion matrix\n",
    "plt.figure(figsize=(8, 6))\n",
    "sns.heatmap(cm, annot=True, fmt='d', cmap='Blues',\n",
    "            xticklabels=class_names, yticklabels=class_names)\n",
    "plt.title('Confusion Matrix')\n",
    "plt.ylabel('Actual Label')\n",
    "plt.xlabel('Predicted Label')\n",
    "plt.show()"
   ]
  },
  {
   "cell_type": "code",
   "execution_count": 10,
   "id": "189a7811",
   "metadata": {},
   "outputs": [
    {
     "name": "stdout",
     "output_type": "stream",
     "text": [
      "Final model saved to ./final_esm2_classifier\n"
     ]
    }
   ],
   "source": [
    "# After trainer.train() has finished\n",
    "final_model_path = \"./final_esm2_classifier\"\n",
    "trainer.save_model(final_model_path)\n",
    "print(f\"Final model saved to {final_model_path}\")"
   ]
  },
  {
   "cell_type": "code",
   "execution_count": 11,
   "id": "cf421f53",
   "metadata": {},
   "outputs": [
    {
     "data": {
      "text/plain": [
       "('./final_esm2_classifier/tokenizer_config.json',\n",
       " './final_esm2_classifier/special_tokens_map.json',\n",
       " './final_esm2_classifier/vocab.txt',\n",
       " './final_esm2_classifier/added_tokens.json')"
      ]
     },
     "execution_count": 11,
     "metadata": {},
     "output_type": "execute_result"
    }
   ],
   "source": [
    "tokenizer.save_pretrained(final_model_path)"
   ]
  },
  {
   "cell_type": "code",
   "execution_count": null,
   "id": "f026265b",
   "metadata": {},
   "outputs": [],
   "source": []
  }
 ],
 "metadata": {
  "kernelspec": {
   "display_name": "esm2classifier",
   "language": "python",
   "name": "python3"
  },
  "language_info": {
   "codemirror_mode": {
    "name": "ipython",
    "version": 3
   },
   "file_extension": ".py",
   "mimetype": "text/x-python",
   "name": "python",
   "nbconvert_exporter": "python",
   "pygments_lexer": "ipython3",
   "version": "3.12.11"
  }
 },
 "nbformat": 4,
 "nbformat_minor": 5
}
